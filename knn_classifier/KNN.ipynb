{
  "nbformat": 4,
  "nbformat_minor": 0,
  "metadata": {
    "colab": {
      "provenance": []
    },
    "kernelspec": {
      "name": "python3",
      "display_name": "Python 3"
    },
    "language_info": {
      "name": "python"
    }
  },
  "cells": [
    {
      "cell_type": "code",
      "execution_count": null,
      "metadata": {
        "id": "hERpjYpohl7c"
      },
      "outputs": [],
      "source": [
        "import numpy as np\n",
        "import pandas as pd\n",
        "from sklearn.model_selection import train_test_split\n",
        "from sklearn.neighbors import KNeighborsClassifier\n",
        "import matplotlib.pyplot as plt\n",
        "import seaborn as sns"
      ]
    },
    {
      "cell_type": "code",
      "source": [
        "df = pd.read_csv('investment_data.csv')"
      ],
      "metadata": {
        "id": "4u4rls9widCT"
      },
      "execution_count": null,
      "outputs": []
    },
    {
      "cell_type": "code",
      "source": [
        "df.head()"
      ],
      "metadata": {
        "colab": {
          "base_uri": "https://localhost:8080/",
          "height": 206
        },
        "id": "JAqJ4K-_irnd",
        "outputId": "6e85ec29-30fa-4f14-aefe-bb13595c91fb"
      },
      "execution_count": null,
      "outputs": [
        {
          "output_type": "execute_result",
          "data": {
            "text/plain": [
              "  Risk Tolerance    Income Category Length of Investment  Predict\n",
              "0  ABOVE AVERAGE    40,001 - 60,000            0-5 years  N123789\n",
              "1  BELOW AVERAGE    20,001 - 40,000            0-5 years   T67895\n",
              "2  ABOVE AVERAGE    20,001 - 40,000            5-7 years     Q123\n",
              "3  ABOVE AVERAGE  100,001 - 150,000            0-5 years  N123789\n",
              "4        AVERAGE    60,001 - 80,000            5-7 years   T67897"
            ],
            "text/html": [
              "\n",
              "  <div id=\"df-fe21e332-e56a-42e4-aa60-584d0053f243\" class=\"colab-df-container\">\n",
              "    <div>\n",
              "<style scoped>\n",
              "    .dataframe tbody tr th:only-of-type {\n",
              "        vertical-align: middle;\n",
              "    }\n",
              "\n",
              "    .dataframe tbody tr th {\n",
              "        vertical-align: top;\n",
              "    }\n",
              "\n",
              "    .dataframe thead th {\n",
              "        text-align: right;\n",
              "    }\n",
              "</style>\n",
              "<table border=\"1\" class=\"dataframe\">\n",
              "  <thead>\n",
              "    <tr style=\"text-align: right;\">\n",
              "      <th></th>\n",
              "      <th>Risk Tolerance</th>\n",
              "      <th>Income Category</th>\n",
              "      <th>Length of Investment</th>\n",
              "      <th>Predict</th>\n",
              "    </tr>\n",
              "  </thead>\n",
              "  <tbody>\n",
              "    <tr>\n",
              "      <th>0</th>\n",
              "      <td>ABOVE AVERAGE</td>\n",
              "      <td>40,001 - 60,000</td>\n",
              "      <td>0-5 years</td>\n",
              "      <td>N123789</td>\n",
              "    </tr>\n",
              "    <tr>\n",
              "      <th>1</th>\n",
              "      <td>BELOW AVERAGE</td>\n",
              "      <td>20,001 - 40,000</td>\n",
              "      <td>0-5 years</td>\n",
              "      <td>T67895</td>\n",
              "    </tr>\n",
              "    <tr>\n",
              "      <th>2</th>\n",
              "      <td>ABOVE AVERAGE</td>\n",
              "      <td>20,001 - 40,000</td>\n",
              "      <td>5-7 years</td>\n",
              "      <td>Q123</td>\n",
              "    </tr>\n",
              "    <tr>\n",
              "      <th>3</th>\n",
              "      <td>ABOVE AVERAGE</td>\n",
              "      <td>100,001 - 150,000</td>\n",
              "      <td>0-5 years</td>\n",
              "      <td>N123789</td>\n",
              "    </tr>\n",
              "    <tr>\n",
              "      <th>4</th>\n",
              "      <td>AVERAGE</td>\n",
              "      <td>60,001 - 80,000</td>\n",
              "      <td>5-7 years</td>\n",
              "      <td>T67897</td>\n",
              "    </tr>\n",
              "  </tbody>\n",
              "</table>\n",
              "</div>\n",
              "    <div class=\"colab-df-buttons\">\n",
              "\n",
              "  <div class=\"colab-df-container\">\n",
              "    <button class=\"colab-df-convert\" onclick=\"convertToInteractive('df-fe21e332-e56a-42e4-aa60-584d0053f243')\"\n",
              "            title=\"Convert this dataframe to an interactive table.\"\n",
              "            style=\"display:none;\">\n",
              "\n",
              "  <svg xmlns=\"http://www.w3.org/2000/svg\" height=\"24px\" viewBox=\"0 -960 960 960\">\n",
              "    <path d=\"M120-120v-720h720v720H120Zm60-500h600v-160H180v160Zm220 220h160v-160H400v160Zm0 220h160v-160H400v160ZM180-400h160v-160H180v160Zm440 0h160v-160H620v160ZM180-180h160v-160H180v160Zm440 0h160v-160H620v160Z\"/>\n",
              "  </svg>\n",
              "    </button>\n",
              "\n",
              "  <style>\n",
              "    .colab-df-container {\n",
              "      display:flex;\n",
              "      gap: 12px;\n",
              "    }\n",
              "\n",
              "    .colab-df-convert {\n",
              "      background-color: #E8F0FE;\n",
              "      border: none;\n",
              "      border-radius: 50%;\n",
              "      cursor: pointer;\n",
              "      display: none;\n",
              "      fill: #1967D2;\n",
              "      height: 32px;\n",
              "      padding: 0 0 0 0;\n",
              "      width: 32px;\n",
              "    }\n",
              "\n",
              "    .colab-df-convert:hover {\n",
              "      background-color: #E2EBFA;\n",
              "      box-shadow: 0px 1px 2px rgba(60, 64, 67, 0.3), 0px 1px 3px 1px rgba(60, 64, 67, 0.15);\n",
              "      fill: #174EA6;\n",
              "    }\n",
              "\n",
              "    .colab-df-buttons div {\n",
              "      margin-bottom: 4px;\n",
              "    }\n",
              "\n",
              "    [theme=dark] .colab-df-convert {\n",
              "      background-color: #3B4455;\n",
              "      fill: #D2E3FC;\n",
              "    }\n",
              "\n",
              "    [theme=dark] .colab-df-convert:hover {\n",
              "      background-color: #434B5C;\n",
              "      box-shadow: 0px 1px 3px 1px rgba(0, 0, 0, 0.15);\n",
              "      filter: drop-shadow(0px 1px 2px rgba(0, 0, 0, 0.3));\n",
              "      fill: #FFFFFF;\n",
              "    }\n",
              "  </style>\n",
              "\n",
              "    <script>\n",
              "      const buttonEl =\n",
              "        document.querySelector('#df-fe21e332-e56a-42e4-aa60-584d0053f243 button.colab-df-convert');\n",
              "      buttonEl.style.display =\n",
              "        google.colab.kernel.accessAllowed ? 'block' : 'none';\n",
              "\n",
              "      async function convertToInteractive(key) {\n",
              "        const element = document.querySelector('#df-fe21e332-e56a-42e4-aa60-584d0053f243');\n",
              "        const dataTable =\n",
              "          await google.colab.kernel.invokeFunction('convertToInteractive',\n",
              "                                                    [key], {});\n",
              "        if (!dataTable) return;\n",
              "\n",
              "        const docLinkHtml = 'Like what you see? Visit the ' +\n",
              "          '<a target=\"_blank\" href=https://colab.research.google.com/notebooks/data_table.ipynb>data table notebook</a>'\n",
              "          + ' to learn more about interactive tables.';\n",
              "        element.innerHTML = '';\n",
              "        dataTable['output_type'] = 'display_data';\n",
              "        await google.colab.output.renderOutput(dataTable, element);\n",
              "        const docLink = document.createElement('div');\n",
              "        docLink.innerHTML = docLinkHtml;\n",
              "        element.appendChild(docLink);\n",
              "      }\n",
              "    </script>\n",
              "  </div>\n",
              "\n",
              "\n",
              "<div id=\"df-b380220e-f999-41de-8894-c026929bde65\">\n",
              "  <button class=\"colab-df-quickchart\" onclick=\"quickchart('df-b380220e-f999-41de-8894-c026929bde65')\"\n",
              "            title=\"Suggest charts.\"\n",
              "            style=\"display:none;\">\n",
              "\n",
              "<svg xmlns=\"http://www.w3.org/2000/svg\" height=\"24px\"viewBox=\"0 0 24 24\"\n",
              "     width=\"24px\">\n",
              "    <g>\n",
              "        <path d=\"M19 3H5c-1.1 0-2 .9-2 2v14c0 1.1.9 2 2 2h14c1.1 0 2-.9 2-2V5c0-1.1-.9-2-2-2zM9 17H7v-7h2v7zm4 0h-2V7h2v10zm4 0h-2v-4h2v4z\"/>\n",
              "    </g>\n",
              "</svg>\n",
              "  </button>\n",
              "\n",
              "<style>\n",
              "  .colab-df-quickchart {\n",
              "      --bg-color: #E8F0FE;\n",
              "      --fill-color: #1967D2;\n",
              "      --hover-bg-color: #E2EBFA;\n",
              "      --hover-fill-color: #174EA6;\n",
              "      --disabled-fill-color: #AAA;\n",
              "      --disabled-bg-color: #DDD;\n",
              "  }\n",
              "\n",
              "  [theme=dark] .colab-df-quickchart {\n",
              "      --bg-color: #3B4455;\n",
              "      --fill-color: #D2E3FC;\n",
              "      --hover-bg-color: #434B5C;\n",
              "      --hover-fill-color: #FFFFFF;\n",
              "      --disabled-bg-color: #3B4455;\n",
              "      --disabled-fill-color: #666;\n",
              "  }\n",
              "\n",
              "  .colab-df-quickchart {\n",
              "    background-color: var(--bg-color);\n",
              "    border: none;\n",
              "    border-radius: 50%;\n",
              "    cursor: pointer;\n",
              "    display: none;\n",
              "    fill: var(--fill-color);\n",
              "    height: 32px;\n",
              "    padding: 0;\n",
              "    width: 32px;\n",
              "  }\n",
              "\n",
              "  .colab-df-quickchart:hover {\n",
              "    background-color: var(--hover-bg-color);\n",
              "    box-shadow: 0 1px 2px rgba(60, 64, 67, 0.3), 0 1px 3px 1px rgba(60, 64, 67, 0.15);\n",
              "    fill: var(--button-hover-fill-color);\n",
              "  }\n",
              "\n",
              "  .colab-df-quickchart-complete:disabled,\n",
              "  .colab-df-quickchart-complete:disabled:hover {\n",
              "    background-color: var(--disabled-bg-color);\n",
              "    fill: var(--disabled-fill-color);\n",
              "    box-shadow: none;\n",
              "  }\n",
              "\n",
              "  .colab-df-spinner {\n",
              "    border: 2px solid var(--fill-color);\n",
              "    border-color: transparent;\n",
              "    border-bottom-color: var(--fill-color);\n",
              "    animation:\n",
              "      spin 1s steps(1) infinite;\n",
              "  }\n",
              "\n",
              "  @keyframes spin {\n",
              "    0% {\n",
              "      border-color: transparent;\n",
              "      border-bottom-color: var(--fill-color);\n",
              "      border-left-color: var(--fill-color);\n",
              "    }\n",
              "    20% {\n",
              "      border-color: transparent;\n",
              "      border-left-color: var(--fill-color);\n",
              "      border-top-color: var(--fill-color);\n",
              "    }\n",
              "    30% {\n",
              "      border-color: transparent;\n",
              "      border-left-color: var(--fill-color);\n",
              "      border-top-color: var(--fill-color);\n",
              "      border-right-color: var(--fill-color);\n",
              "    }\n",
              "    40% {\n",
              "      border-color: transparent;\n",
              "      border-right-color: var(--fill-color);\n",
              "      border-top-color: var(--fill-color);\n",
              "    }\n",
              "    60% {\n",
              "      border-color: transparent;\n",
              "      border-right-color: var(--fill-color);\n",
              "    }\n",
              "    80% {\n",
              "      border-color: transparent;\n",
              "      border-right-color: var(--fill-color);\n",
              "      border-bottom-color: var(--fill-color);\n",
              "    }\n",
              "    90% {\n",
              "      border-color: transparent;\n",
              "      border-bottom-color: var(--fill-color);\n",
              "    }\n",
              "  }\n",
              "</style>\n",
              "\n",
              "  <script>\n",
              "    async function quickchart(key) {\n",
              "      const quickchartButtonEl =\n",
              "        document.querySelector('#' + key + ' button');\n",
              "      quickchartButtonEl.disabled = true;  // To prevent multiple clicks.\n",
              "      quickchartButtonEl.classList.add('colab-df-spinner');\n",
              "      try {\n",
              "        const charts = await google.colab.kernel.invokeFunction(\n",
              "            'suggestCharts', [key], {});\n",
              "      } catch (error) {\n",
              "        console.error('Error during call to suggestCharts:', error);\n",
              "      }\n",
              "      quickchartButtonEl.classList.remove('colab-df-spinner');\n",
              "      quickchartButtonEl.classList.add('colab-df-quickchart-complete');\n",
              "    }\n",
              "    (() => {\n",
              "      let quickchartButtonEl =\n",
              "        document.querySelector('#df-b380220e-f999-41de-8894-c026929bde65 button');\n",
              "      quickchartButtonEl.style.display =\n",
              "        google.colab.kernel.accessAllowed ? 'block' : 'none';\n",
              "    })();\n",
              "  </script>\n",
              "</div>\n",
              "    </div>\n",
              "  </div>\n"
            ]
          },
          "metadata": {},
          "execution_count": 62
        }
      ]
    },
    {
      "cell_type": "code",
      "source": [
        "data = df[['Risk Tolerance','Income Category','Length of Investment']].values.tolist()\n",
        "data"
      ],
      "metadata": {
        "id": "qlsCoJn3lalm"
      },
      "execution_count": null,
      "outputs": []
    },
    {
      "cell_type": "code",
      "source": [
        "label = df[['Predict']].values.tolist()\n",
        "label"
      ],
      "metadata": {
        "id": "n_IDgWm0mXAC"
      },
      "execution_count": null,
      "outputs": []
    },
    {
      "cell_type": "code",
      "source": [
        "# Convert categorical data to numerical using one-hot encoding\n",
        "from sklearn.preprocessing import OneHotEncoder\n",
        "encoder = OneHotEncoder(sparse=False)\n",
        "data_encoded = encoder.fit_transform(data)\n",
        "\n",
        "# Split the dataset into training and testing sets (80% training, 20% testing)\n",
        "X_train, X_test, y_train, y_test = train_test_split(data_encoded, labels, test_size=0.2, random_state=42)\n",
        "\n",
        "# Build the KNN classifier (you can adjust the number of neighbors)\n",
        "k = 5\n",
        "knn_classifier = KNeighborsClassifier(n_neighbors=k)\n",
        "\n",
        "# Train the classifier on the training data\n",
        "knn_classifier.fit(X_train, y_train)\n",
        "\n",
        "# Test the classifier on the testing data\n",
        "y_pred = knn_classifier.predict(X_test)"
      ],
      "metadata": {
        "colab": {
          "base_uri": "https://localhost:8080/"
        },
        "id": "siWhRqZglYZA",
        "outputId": "16d5498b-4a72-4e2a-d139-f0bb784f3ff7"
      },
      "execution_count": null,
      "outputs": [
        {
          "output_type": "stream",
          "name": "stderr",
          "text": [
            "/usr/local/lib/python3.10/dist-packages/sklearn/preprocessing/_encoders.py:868: FutureWarning: `sparse` was renamed to `sparse_output` in version 1.2 and will be removed in 1.4. `sparse_output` is ignored unless you leave `sparse` to its default value.\n",
            "  warnings.warn(\n"
          ]
        }
      ]
    },
    {
      "cell_type": "code",
      "source": [
        "encoder_filename = 'encoder.joblib'\n",
        "joblib.dump(encoder, encoder_filename)"
      ],
      "metadata": {
        "colab": {
          "base_uri": "https://localhost:8080/"
        },
        "id": "k4_PQD02AXBa",
        "outputId": "0bd31244-fadf-4502-8380-3396a4ce83eb"
      },
      "execution_count": null,
      "outputs": [
        {
          "output_type": "execute_result",
          "data": {
            "text/plain": [
              "['encoder.joblib']"
            ]
          },
          "metadata": {},
          "execution_count": 65
        }
      ]
    },
    {
      "cell_type": "code",
      "source": [
        "# new_data_point = [\n",
        "#     random.choice(risk_tolerance),\n",
        "#     random.choice(income_category),\n",
        "#     random.choice(length_of_investment),\n",
        "# ]\n",
        "\n",
        "new_data_point = ['AVERAGE', '60,001 - 80,000', '0-5 years']\n",
        "print(new_data_point)"
      ],
      "metadata": {
        "colab": {
          "base_uri": "https://localhost:8080/"
        },
        "id": "KSnqOBZ8jQBQ",
        "outputId": "7bbf8e17-0208-4efd-c980-8b44de6c0b82"
      },
      "execution_count": null,
      "outputs": [
        {
          "output_type": "stream",
          "name": "stdout",
          "text": [
            "['AVERAGE', '60,001 - 80,000', '0-5 years']\n"
          ]
        }
      ]
    },
    {
      "cell_type": "code",
      "source": [
        "# Encode the new data point using the same encoder\n",
        "new_data_encoded = encoder.transform([new_data_point])\n",
        "\n",
        "# Make predictions for the new data point\n",
        "predicted_label = knn_classifier.predict(new_data_encoded)\n",
        "\n",
        "print(f\"Predicted Label: {predicted_label[0]}\")"
      ],
      "metadata": {
        "colab": {
          "base_uri": "https://localhost:8080/"
        },
        "id": "kng0TI-8k_qW",
        "outputId": "6343b4b5-079a-4229-d120-727da070059d"
      },
      "execution_count": null,
      "outputs": [
        {
          "output_type": "stream",
          "name": "stdout",
          "text": [
            "Predicted Label: N123456\n"
          ]
        }
      ]
    },
    {
      "cell_type": "code",
      "source": [
        "print(y_train)"
      ],
      "metadata": {
        "colab": {
          "base_uri": "https://localhost:8080/"
        },
        "id": "CCxE9ILe_Kgg",
        "outputId": "f54171ea-ed2c-4ef3-e1b0-1b291e77926d"
      },
      "execution_count": null,
      "outputs": [
        {
          "output_type": "stream",
          "name": "stdout",
          "text": [
            "['Q123', 'C100', 'T67894', 'T67894', 'Q123', 'Q123', 'C100', 'T67895', 'T67897', 'N123456', 'N123456', 'Q123', 'T67897', 'T67899', 'C100', 'T67897', 'T67899', 'N123789', 'T67895', 'Q123', 'T67899', 'C100', 'T67890', 'C100', 'T67899', 'T67895', 'N123456', 'N123789', 'N123456', 'T67895', 'Q123', 'T67894', 'T67899', 'T67895', 'T67895', 'T67897', 'T67895', 'Q123', 'T67890', 'N123456', 'T67897', 'Q456', 'T67890', 'T67895', 'Q456', 'T67897', 'N123456', 'N123789', 'T67895', 'N123456', 'Q123', 'T67899', 'T67897', 'N123456', 'N123789', 'C100', 'Q456', 'N123789', 'C100', 'T67897', 'Q123', 'N123456', 'N123456', 'T67899', 'N123456', 'N123789', 'Q123', 'Q456', 'Q123', 'N123456', 'T67890', 'Q456', 'C100', 'Q456', 'T67890', 'T67897', 'T67899', 'T67899', 'T67897', 'T67894', 'T67890', 'T67894', 'C100', 'T67890', 'T67895', 'Q456', 'C100', 'N123789', 'N123456', 'T67897', 'T67890', 'N123789', 'N123456', 'T67899', 'T67894', 'T67897', 'T67890', 'Q456', 'T67890', 'Q123', 'Q456', 'Q123', 'N123456', 'Q456', 'T67897', 'Q456', 'T67894', 'C100', 'T67894', 'Q123', 'N123789', 'T67895', 'T67899', 'N123456', 'N123456', 'Q456', 'T67895', 'C100', 'T67894', 'C100', 'Q123', 'Q456', 'N123456', 'T67899', 'T67895', 'T67897', 'T67899', 'Q123', 'T67894', 'T67899', 'T67899', 'Q123', 'Q456', 'N123456', 'N123456', 'T67899', 'T67894', 'Q123', 'T67897', 'T67890', 'Q123', 'T67890', 'T67899', 'N123456', 'C100', 'N123789', 'T67894', 'Q123', 'C100', 'T67897', 'T67890', 'T67897', 'T67894', 'T67899', 'T67895', 'T67899', 'Q123', 'Q123', 'T67894', 'T67899', 'T67894', 'N123789', 'N123456', 'Q123', 'N123789', 'Q123', 'T67894', 'T67894', 'T67897', 'T67894', 'T67890', 'T67895', 'Q456', 'T67895', 'T67895', 'T67897', 'T67890', 'T67895', 'N123456', 'Q456', 'Q123', 'Q123', 'T67895', 'T67890', 'T67895', 'T67897', 'N123789', 'C100', 'T67899', 'T67895', 'T67890', 'T67899', 'Q456', 'N123789', 'T67897', 'N123456', 'C100', 'Q123', 'Q123', 'T67890', 'N123456', 'Q123', 'Q456', 'Q123', 'Q456', 'Q123', 'T67899', 'T67899', 'T67899', 'T67897', 'Q123', 'N123456', 'T67895', 'T67899', 'T67899', 'T67894', 'T67895', 'N123456', 'C100', 'T67894', 'Q123', 'Q456', 'Q456', 'N123789', 'N123789', 'Q123', 'Q123', 'T67890', 'T67894', 'Q456', 'T67899', 'T67897', 'C100', 'T67897', 'Q456', 'T67890', 'C100', 'T67894', 'Q456', 'T67894']\n"
          ]
        }
      ]
    },
    {
      "cell_type": "code",
      "source": [
        "# Import necessary libraries\n",
        "import numpy as np\n",
        "\n",
        "# Number of neighbors to consider (5 in your case)\n",
        "k = 5\n",
        "# Find the indices of the k nearest neighbors for the new data point\n",
        "_, neighbor_indices = knn_classifier.kneighbors(new_data_encoded, n_neighbors=k)\n",
        "\n",
        "# Extract the labels corresponding to the neighbor indices\n",
        "neighbor_labels = [y_train[i] for i in neighbor_indices[0]]\n",
        "\n",
        "# Count the occurrences of each label in the neighbors\n",
        "from collections import Counter\n",
        "label_counts = Counter(neighbor_labels)\n",
        "\n",
        "# Get the top 5 predicted labels based on neighbor counts\n",
        "top_5_predictions = [label for label, count in label_counts.most_common(5)]\n",
        "\n",
        "print(\"Top 5 Predictions:\", top_5_predictions)\n"
      ],
      "metadata": {
        "colab": {
          "base_uri": "https://localhost:8080/"
        },
        "id": "70wkIUZenoth",
        "outputId": "30b9e868-514b-4a26-998f-aa24045185ef"
      },
      "execution_count": null,
      "outputs": [
        {
          "output_type": "stream",
          "name": "stdout",
          "text": [
            "Top 5 Predictions: ['N123456', 'T67895', 'Q123', 'T67890']\n"
          ]
        }
      ]
    },
    {
      "cell_type": "code",
      "source": [
        "import joblib\n",
        "joblib.dump(knn_classifier, 'knn_classifier_model.pkl')\n",
        "print(\"KNN classifier model has been saved to 'knn_classifier_model.pkl'.\")"
      ],
      "metadata": {
        "colab": {
          "base_uri": "https://localhost:8080/"
        },
        "id": "bgpCNHqppaLh",
        "outputId": "9fd96078-5659-4a51-f391-3d840b90671d"
      },
      "execution_count": null,
      "outputs": [
        {
          "output_type": "stream",
          "name": "stdout",
          "text": [
            "KNN classifier model has been saved to 'knn_classifier_model.pkl'.\n"
          ]
        }
      ]
    },
    {
      "cell_type": "code",
      "source": [
        "model = joblib.load('knn_classifier_model.pkl')\n",
        "encoder = joblib.load('encoder.joblib')"
      ],
      "metadata": {
        "id": "RmNsJ88BB6gC"
      },
      "execution_count": null,
      "outputs": []
    },
    {
      "cell_type": "code",
      "source": [
        "final_list = ['AVERAGE','60,001 - 80,000','0-5 years']\n",
        "new_data_encoded = encoder.transform([final_list])"
      ],
      "metadata": {
        "id": "TfhNmSF9CArh"
      },
      "execution_count": null,
      "outputs": []
    }
  ]
}